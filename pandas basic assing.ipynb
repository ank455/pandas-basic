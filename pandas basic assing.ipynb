{
 "cells": [
  {
   "cell_type": "code",
   "execution_count": 14,
   "id": "591b955c-c88a-41f0-957e-acf1c3cc97aa",
   "metadata": {},
   "outputs": [],
   "source": [
    "import pandas as pd"
   ]
  },
  {
   "cell_type": "code",
   "execution_count": 3,
   "id": "ab14b510-da82-4448-80f8-bef65a3ba34a",
   "metadata": {},
   "outputs": [
    {
     "name": "stdout",
     "output_type": "stream",
     "text": [
      "     Name  Age  Gender\n",
      "0   Alice   25  Female\n",
      "1     Bob   30    Male\n",
      "2  Claire   27  Female\n"
     ]
    }
   ],
   "source": [
    "# Ans 3\n",
    "data = {'Name':['Alice','Bob','Claire'],\n",
    "     'Age':[25,30,27],\n",
    "        'Gender':['Female','Male','Female']}\n",
    "df = pd.DataFrame(data)\n",
    "\n",
    "print(df)\n",
    "        \n",
    "        \n",
    "          "
   ]
  },
  {
   "cell_type": "code",
   "execution_count": 5,
   "id": "5618597d-2489-4c5c-90d5-f700d8824e4a",
   "metadata": {},
   "outputs": [
    {
     "name": "stdout",
     "output_type": "stream",
     "text": [
      "0     4\n",
      "1     8\n",
      "2    15\n",
      "3    16\n",
      "4    23\n",
      "5    42\n",
      "dtype: int64\n"
     ]
    }
   ],
   "source": [
    "# Ans 1\n",
    "\n",
    "a = [4,8,15,16,23,42]\n",
    "\n",
    "S = pd.Series(a)\n",
    "\n",
    "print(S)"
   ]
  },
  {
   "cell_type": "code",
   "execution_count": 6,
   "id": "c5990b1c-eafa-4a58-8e15-721a342c581b",
   "metadata": {},
   "outputs": [
    {
     "name": "stdout",
     "output_type": "stream",
     "text": [
      "0           1\n",
      "1           2\n",
      "2          55\n",
      "3       96.45\n",
      "4         456\n",
      "5       Ankit\n",
      "6       Kumar\n",
      "7    Pwskills\n",
      "8      Skills\n",
      "9         raj\n",
      "dtype: object\n"
     ]
    }
   ],
   "source": [
    "# Ans 2\n",
    "\n",
    "lst = [1,2,55,96.45,456,'Ankit','Kumar','Pwskills','Skills','raj']\n",
    "\n",
    "x = pd.Series(lst)\n",
    "\n",
    "print(x)"
   ]
  },
  {
   "cell_type": "code",
   "execution_count": null,
   "id": "562f7f3b-4600-4f5b-84cb-b2ba2b9dfa3d",
   "metadata": {},
   "outputs": [],
   "source": [
    "# Ans 4\n",
    "\n",
    "pandas.Series - Series in pandas contains a single list which can store heterogeneous type of data, because of this, series is also considered as a 1-dimensional data structure. \n",
    "\n",
    "DataFrame - DataFrame is a 2-dimensional data structure which contains multiple lists of heterogeneous type of data."
   ]
  },
  {
   "cell_type": "code",
   "execution_count": 4,
   "id": "7e48818b-dc1b-4157-b034-ea856a0c9e06",
   "metadata": {},
   "outputs": [],
   "source": [
    "#Example of data series \n",
    "\n",
    "data = {\n",
    "    'Calories':[120,450,600],\n",
    "    'duration':[10,40,60]\n",
    "}\n",
    "\n",
    "df = pd.DataFrame(data)"
   ]
  },
  {
   "cell_type": "code",
   "execution_count": 5,
   "id": "de2f5df6-22bb-44f9-bba2-d99e587b60dc",
   "metadata": {},
   "outputs": [
    {
     "data": {
      "text/html": [
       "<div>\n",
       "<style scoped>\n",
       "    .dataframe tbody tr th:only-of-type {\n",
       "        vertical-align: middle;\n",
       "    }\n",
       "\n",
       "    .dataframe tbody tr th {\n",
       "        vertical-align: top;\n",
       "    }\n",
       "\n",
       "    .dataframe thead th {\n",
       "        text-align: right;\n",
       "    }\n",
       "</style>\n",
       "<table border=\"1\" class=\"dataframe\">\n",
       "  <thead>\n",
       "    <tr style=\"text-align: right;\">\n",
       "      <th></th>\n",
       "      <th>Calories</th>\n",
       "      <th>duration</th>\n",
       "    </tr>\n",
       "  </thead>\n",
       "  <tbody>\n",
       "    <tr>\n",
       "      <th>0</th>\n",
       "      <td>120</td>\n",
       "      <td>10</td>\n",
       "    </tr>\n",
       "    <tr>\n",
       "      <th>1</th>\n",
       "      <td>450</td>\n",
       "      <td>40</td>\n",
       "    </tr>\n",
       "    <tr>\n",
       "      <th>2</th>\n",
       "      <td>600</td>\n",
       "      <td>60</td>\n",
       "    </tr>\n",
       "  </tbody>\n",
       "</table>\n",
       "</div>"
      ],
      "text/plain": [
       "   Calories  duration\n",
       "0       120        10\n",
       "1       450        40\n",
       "2       600        60"
      ]
     },
     "execution_count": 5,
     "metadata": {},
     "output_type": "execute_result"
    }
   ],
   "source": [
    "df"
   ]
  },
  {
   "cell_type": "code",
   "execution_count": 6,
   "id": "b92505a5-577c-4ce0-9eaf-5818aa9d1673",
   "metadata": {},
   "outputs": [
    {
     "name": "stdout",
     "output_type": "stream",
     "text": [
      "0    45\n",
      "1    41\n",
      "2     7\n",
      "dtype: int64\n"
     ]
    }
   ],
   "source": [
    "# Example of pandas.series\n",
    "\n",
    "a = [45,41,7]\n",
    "\n",
    "m = pd.Series(a)\n",
    "\n",
    "print(m)"
   ]
  },
  {
   "cell_type": "code",
   "execution_count": null,
   "id": "518155fa-2f6e-45dd-bb0c-45ef2bf269e8",
   "metadata": {},
   "outputs": [],
   "source": [
    "# Ans 5\n",
    "\n",
    "Some common function use to manupulate data are :\n",
    "    dropping column\n",
    "    dropping row \n",
    "    slicing\n",
    "    renaming a column\n",
    "    "
   ]
  },
  {
   "cell_type": "code",
   "execution_count": 15,
   "id": "4ccc0095-2576-4e3f-a7d1-226bec8f21e3",
   "metadata": {},
   "outputs": [],
   "source": [
    "\n",
    "df = pd.read_csv(\"https://raw.githubusercontent.com/datasciencedojo/datasets/master/titanic.csv\")"
   ]
  },
  {
   "cell_type": "code",
   "execution_count": 16,
   "id": "cf89e7a7-a6a3-4d31-8523-9542c2a43aff",
   "metadata": {},
   "outputs": [
    {
     "data": {
      "text/plain": [
       "Index(['PassengerId', 'Survived', 'Pclass', 'Name', 'Sex', 'Age', 'SibSp',\n",
       "       'Parch', 'Ticket', 'Fare', 'Cabin', 'Embarked'],\n",
       "      dtype='object')"
      ]
     },
     "execution_count": 16,
     "metadata": {},
     "output_type": "execute_result"
    }
   ],
   "source": [
    "df.columns"
   ]
  },
  {
   "cell_type": "code",
   "execution_count": 17,
   "id": "0a63b942-6050-4b75-a566-d873cd2026e8",
   "metadata": {},
   "outputs": [],
   "source": [
    "# Example of column drop\n",
    "\n",
    "# not for permanent change\n",
    "\n",
    "df = df.drop('Survived' , axis = 1)"
   ]
  },
  {
   "cell_type": "code",
   "execution_count": 20,
   "id": "fe571bf6-9929-454e-9d8c-9f02c125b31d",
   "metadata": {},
   "outputs": [],
   "source": [
    "# Example of row drop \n",
    "# Not for permanent change\n",
    "\n",
    "\n",
    "df = df.drop(2)"
   ]
  },
  {
   "cell_type": "code",
   "execution_count": null,
   "id": "a665fb9a-f3cc-43c9-a48d-4db666fe6323",
   "metadata": {},
   "outputs": [],
   "source": [
    "# example of slicing\n",
    "\n",
    "df[['Pclass' , 'Name' ]][4:50:2]"
   ]
  },
  {
   "cell_type": "code",
   "execution_count": 25,
   "id": "0fe88685-895b-408d-81b8-71eade96aebc",
   "metadata": {},
   "outputs": [],
   "source": [
    "# Example of renaming\n",
    "\n",
    "df.rename(columns = {'PassengerId':'Customer id '} , inplace = True)"
   ]
  },
  {
   "cell_type": "code",
   "execution_count": null,
   "id": "91ba3193-bcae-406a-af2d-7329dc33f345",
   "metadata": {},
   "outputs": [],
   "source": [
    "# Ans 7\n",
    "\n",
    "we can create a DataFrame from multiple series objects by adding each series as a columns.\n",
    "\n"
   ]
  },
  {
   "cell_type": "code",
   "execution_count": 28,
   "id": "b62bda3a-0a0c-4553-b212-6c2490e6bd1c",
   "metadata": {},
   "outputs": [],
   "source": [
    "#Example \n",
    "\n",
    "df2 = df[['Name' , 'Age']][0:5]"
   ]
  },
  {
   "cell_type": "code",
   "execution_count": 29,
   "id": "46434a06-05b8-470d-b50f-f9a72608b2b7",
   "metadata": {},
   "outputs": [],
   "source": [
    "df3 = df[['Name', 'Age']][5:10]"
   ]
  },
  {
   "cell_type": "code",
   "execution_count": 34,
   "id": "f23a649c-206d-4b75-8f60-2ef42c75cd88",
   "metadata": {},
   "outputs": [
    {
     "data": {
      "text/html": [
       "<div>\n",
       "<style scoped>\n",
       "    .dataframe tbody tr th:only-of-type {\n",
       "        vertical-align: middle;\n",
       "    }\n",
       "\n",
       "    .dataframe tbody tr th {\n",
       "        vertical-align: top;\n",
       "    }\n",
       "\n",
       "    .dataframe thead th {\n",
       "        text-align: right;\n",
       "    }\n",
       "</style>\n",
       "<table border=\"1\" class=\"dataframe\">\n",
       "  <thead>\n",
       "    <tr style=\"text-align: right;\">\n",
       "      <th></th>\n",
       "      <th>Name</th>\n",
       "      <th>Age</th>\n",
       "    </tr>\n",
       "  </thead>\n",
       "  <tbody>\n",
       "    <tr>\n",
       "      <th>0</th>\n",
       "      <td>Braund, Mr. Owen Harris</td>\n",
       "      <td>22.0</td>\n",
       "    </tr>\n",
       "    <tr>\n",
       "      <th>1</th>\n",
       "      <td>Cumings, Mrs. John Bradley (Florence Briggs Th...</td>\n",
       "      <td>38.0</td>\n",
       "    </tr>\n",
       "    <tr>\n",
       "      <th>3</th>\n",
       "      <td>Futrelle, Mrs. Jacques Heath (Lily May Peel)</td>\n",
       "      <td>35.0</td>\n",
       "    </tr>\n",
       "    <tr>\n",
       "      <th>4</th>\n",
       "      <td>Allen, Mr. William Henry</td>\n",
       "      <td>35.0</td>\n",
       "    </tr>\n",
       "    <tr>\n",
       "      <th>5</th>\n",
       "      <td>Moran, Mr. James</td>\n",
       "      <td>NaN</td>\n",
       "    </tr>\n",
       "    <tr>\n",
       "      <th>6</th>\n",
       "      <td>McCarthy, Mr. Timothy J</td>\n",
       "      <td>54.0</td>\n",
       "    </tr>\n",
       "    <tr>\n",
       "      <th>7</th>\n",
       "      <td>Palsson, Master. Gosta Leonard</td>\n",
       "      <td>2.0</td>\n",
       "    </tr>\n",
       "    <tr>\n",
       "      <th>8</th>\n",
       "      <td>Johnson, Mrs. Oscar W (Elisabeth Vilhelmina Berg)</td>\n",
       "      <td>27.0</td>\n",
       "    </tr>\n",
       "    <tr>\n",
       "      <th>9</th>\n",
       "      <td>Nasser, Mrs. Nicholas (Adele Achem)</td>\n",
       "      <td>14.0</td>\n",
       "    </tr>\n",
       "    <tr>\n",
       "      <th>10</th>\n",
       "      <td>Sandstrom, Miss. Marguerite Rut</td>\n",
       "      <td>4.0</td>\n",
       "    </tr>\n",
       "  </tbody>\n",
       "</table>\n",
       "</div>"
      ],
      "text/plain": [
       "                                                 Name   Age\n",
       "0                             Braund, Mr. Owen Harris  22.0\n",
       "1   Cumings, Mrs. John Bradley (Florence Briggs Th...  38.0\n",
       "3        Futrelle, Mrs. Jacques Heath (Lily May Peel)  35.0\n",
       "4                            Allen, Mr. William Henry  35.0\n",
       "5                                    Moran, Mr. James   NaN\n",
       "6                             McCarthy, Mr. Timothy J  54.0\n",
       "7                      Palsson, Master. Gosta Leonard   2.0\n",
       "8   Johnson, Mrs. Oscar W (Elisabeth Vilhelmina Berg)  27.0\n",
       "9                 Nasser, Mrs. Nicholas (Adele Achem)  14.0\n",
       "10                    Sandstrom, Miss. Marguerite Rut   4.0"
      ]
     },
     "execution_count": 34,
     "metadata": {},
     "output_type": "execute_result"
    }
   ],
   "source": [
    "pd.concat([df2,df3])"
   ]
  },
  {
   "cell_type": "code",
   "execution_count": null,
   "id": "fbbdb6d8-c8b6-4d5d-a2c0-f400ce750f92",
   "metadata": {},
   "outputs": [],
   "source": [
    "#Ans 6\n",
    "Series , DataFrame , Panel all are mutable in nature."
   ]
  }
 ],
 "metadata": {
  "kernelspec": {
   "display_name": "Python 3 (ipykernel)",
   "language": "python",
   "name": "python3"
  },
  "language_info": {
   "codemirror_mode": {
    "name": "ipython",
    "version": 3
   },
   "file_extension": ".py",
   "mimetype": "text/x-python",
   "name": "python",
   "nbconvert_exporter": "python",
   "pygments_lexer": "ipython3",
   "version": "3.10.8"
  }
 },
 "nbformat": 4,
 "nbformat_minor": 5
}
